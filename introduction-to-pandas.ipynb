{
 "cells": [
  {
   "cell_type": "code",
   "execution_count": 1,
   "id": "139a2721",
   "metadata": {},
   "outputs": [],
   "source": [
    "import pandas as pd"
   ]
  },
  {
   "cell_type": "code",
   "execution_count": 8,
   "id": "cd54066d",
   "metadata": {},
   "outputs": [
    {
     "name": "stdout",
     "output_type": "stream",
     "text": [
      "0    Benz, toyota, Honda\n",
      "dtype: object\n",
      "0    Red, yellow,Green\n",
      "dtype: object\n"
     ]
    }
   ],
   "source": [
    "series = pd.Series (\"Benz, toyota, Honda\")\n",
    "print(series)\n",
    "\n",
    "colours = pd.Series (\"Red, yellow,Green\")\n",
    "print(colours)"
   ]
  },
  {
   "cell_type": "markdown",
   "id": "bafeb8d6",
   "metadata": {},
   "source": [
    "Series are 1-dimensional while Dataframes are 2-dimensional.\n",
    "Two dimensional in the point of they have rows and Columns"
   ]
  },
  {
   "cell_type": "code",
   "execution_count": 9,
   "id": "d89552c8",
   "metadata": {},
   "outputs": [
    {
     "name": "stdout",
     "output_type": "stream",
     "text": [
      "              car make             Colour\n",
      "0  Benz, toyota, Honda  Red, yellow,Green\n"
     ]
    }
   ],
   "source": [
    "# DataFrame = 2-dimensional\n",
    "car_data =pd.DataFrame({\"car make\": series, \"Colour\": colours})\n",
    "print(car_data)"
   ]
  },
  {
   "cell_type": "code",
   "execution_count": null,
   "id": "5fcb253b",
   "metadata": {},
   "outputs": [],
   "source": [
    "car_sales = pd.read_csv('car_sales.csv')"
   ]
  }
 ],
 "metadata": {
  "kernelspec": {
   "display_name": ".venv",
   "language": "python",
   "name": "python3"
  },
  "language_info": {
   "codemirror_mode": {
    "name": "ipython",
    "version": 3
   },
   "file_extension": ".py",
   "mimetype": "text/x-python",
   "name": "python",
   "nbconvert_exporter": "python",
   "pygments_lexer": "ipython3",
   "version": "3.13.2"
  }
 },
 "nbformat": 4,
 "nbformat_minor": 5
}
